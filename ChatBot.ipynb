{
 "cells": [
  {
   "cell_type": "code",
   "execution_count": 110,
   "id": "c336af70-7247-484f-84a3-f4847f6356f9",
   "metadata": {},
   "outputs": [],
   "source": [
    "import json\n",
    "import nltk\n",
    "from nltk.stem.porter import PorterStemmer\n",
    "import numpy as np\n",
    "import torch\n",
    "import torch.nn as nn\n",
    "from torch.utils.data import Dataset,DataLoader\n",
    "\n",
    "stemmer=PorterStemmer()\n",
    "\n",
    "def Tokenize(sentence):\n",
    "    return nltk.word_tokenize(sentence)\n",
    "\n",
    "def Stem(word):\n",
    "    \"\"\"Stems a word using the Porter Stemmer.\"\"\"\n",
    "    return stemmer.stem(word.lower())\n",
    "\n",
    "def Bag_Of_Word(tokenize_sentence,all_words):\n",
    "    tokenize_sentence=[Stem(w) for w in tokenize_sentence]\n",
    "    bag=np.zeros(len(all_words),dtype=np.float32)\n",
    "\n",
    "    for ind,w in enumerate(all_words):\n",
    "        if w in tokenize_sentence:\n",
    "            bag[ind]=1.0\n",
    "    return bag\n",
    "\n",
    "\n",
    "\n",
    "with open('G:/chatbot/intents.json','r') as f:\n",
    "    intents=json.load(f)\n",
    "\n",
    "all_words=[]\n",
    "tags=[]\n",
    "xy=[]\n",
    "\n",
    "for intent in intents['intents']:\n",
    "    tag=intent['tag']\n",
    "    tags.append(tag)\n",
    "    for pattern in intent['patterns']:\n",
    "        w=Tokenize(pattern)\n",
    "        all_words.extend(w)\n",
    "        xy.append((w,tag))\n",
    "\n",
    "# Preprocess the data\n",
    "ignore_words = ['?', '!', '.', ',']  # List of words to ignore\n",
    "all_words = [Stem(w) for w in all_words if w not in ignore_words]  # Stem and remove ignored words\n",
    "all_words = sorted(set(all_words))  # Remove duplicates and sort alphabetically\n",
    "tags = sorted(set(tags))  # Remove duplicates and sort alphabetically\n",
    "\n",
    "\n",
    "x_train=[]\n",
    "y_train=[]\n",
    "\n",
    "for (pattern_sentence, tag) in xy:\n",
    "    bag = Bag_Of_Word(pattern_sentence, all_words)\n",
    "    x_train.append(bag)\n",
    "\n",
    "    label = tags.index(tag)\n",
    "    y_train.append(label)\n",
    "\n",
    "\n",
    "# Convert lists to numpy arrays\n",
    "\n",
    "x_train = np.array(x_train)\n",
    "y_train = np.array(y_train)"
   ]
  },
  {
   "cell_type": "code",
   "execution_count": 111,
   "id": "143f2372-cc56-4718-9faa-995e573d89a8",
   "metadata": {},
   "outputs": [
    {
     "name": "stdout",
     "output_type": "stream",
     "text": [
      "number of samples (patterns) and the number of features (words in the bag-of-words representation)  = (26, 54)\n",
      "number of labels corresponding to your patterns in x_train (26,)\n"
     ]
    }
   ],
   "source": [
    "print(f\"number of samples (patterns) and the number of features (words in the bag-of-words representation)  = {x_train.shape}\")\n",
    "\n",
    "print(f\"number of labels corresponding to your patterns in x_train {y_train.shape}\")"
   ]
  },
  {
   "cell_type": "markdown",
   "id": "222619c0-85d3-41c4-bc77-39e7c978bbf7",
   "metadata": {},
   "source": [
    "### Hyperparameters for training the neural network"
   ]
  },
  {
   "cell_type": "code",
   "execution_count": 112,
   "id": "62d00b4a-f5c6-4716-b409-bd7c289f41f3",
   "metadata": {},
   "outputs": [
    {
     "name": "stdout",
     "output_type": "stream",
     "text": [
      "input size = 54 and output_size = 7\n"
     ]
    }
   ],
   "source": [
    "num_epochs = 1000\n",
    "batch_size = 8\n",
    "learning_rate = 0.001\n",
    "input_size = len(x_train[0])\n",
    "hidden_size = 8\n",
    "output_size = len(tags)\n",
    "print(f\"input size = {input_size} and output_size = {output_size}\")"
   ]
  },
  {
   "cell_type": "code",
   "execution_count": 113,
   "id": "940d9bb5-80be-407f-bae5-fdbcddd011f3",
   "metadata": {},
   "outputs": [],
   "source": [
    "class ChatDataset(Dataset):\n",
    "\n",
    "    def __init__(self):\n",
    "        self.n_samples = len(x_train)\n",
    "        self.x_data = x_train\n",
    "        self.y_data = y_train\n",
    "\n",
    "    # support indexing such that dataset[i] can be used to get i-th sample\n",
    "    def __getitem__(self, index):\n",
    "        return self.x_data[index], self.y_data[index]\n",
    "\n",
    "    # we can call len(dataset) to return the size\n",
    "    def __len__(self):\n",
    "        return self.n_samples\n",
    "\n",
    "dataset = ChatDataset()\n",
    "train_loader = DataLoader(dataset=dataset,\n",
    "                          batch_size=batch_size,\n",
    "                          shuffle=True,\n",
    "                          num_workers=0)"
   ]
  },
  {
   "cell_type": "code",
   "execution_count": 114,
   "id": "03c8fb98-d5d6-42b7-9bf7-3017afd3c552",
   "metadata": {},
   "outputs": [],
   "source": [
    "class NeuralNet(nn.Module):\n",
    "    def __init__(self, input_size, hidden_size, num_classes):\n",
    "        super(NeuralNet, self).__init__()\n",
    "        self.l1 = nn.Linear(input_size, hidden_size) \n",
    "        self.l2 = nn.Linear(hidden_size, hidden_size) \n",
    "        self.l3 = nn.Linear(hidden_size, num_classes)\n",
    "        self.relu = nn.ReLU()\n",
    "    \n",
    "    def forward(self, x):\n",
    "        # Forward pass through the network with ReLU activation\n",
    "        out = self.l1(x)\n",
    "        out = self.relu(out)\n",
    "        out = self.l2(out)\n",
    "        out = self.relu(out)\n",
    "        out = self.l3(out)\n",
    "        # no activation and no softmax at the end\n",
    "        # use cross-entrophy function\n",
    "        return out"
   ]
  },
  {
   "cell_type": "code",
   "execution_count": 115,
   "id": "4d9a165a-52ae-4cac-928d-094ddde9ca6a",
   "metadata": {},
   "outputs": [],
   "source": [
    "device=torch.device('cuda' if torch.cuda.is_available() else 'cpu')"
   ]
  },
  {
   "cell_type": "code",
   "execution_count": 116,
   "id": "7601a3e9-d5e1-46c6-ab34-2b8a0667baf5",
   "metadata": {},
   "outputs": [],
   "source": [
    "model=NeuralNet(input_size,hidden_size,output_size).to(device)"
   ]
  },
  {
   "cell_type": "markdown",
   "id": "442cb425-a2fe-46dc-86e7-5d659193cf33",
   "metadata": {},
   "source": [
    "### Loss and optimizer"
   ]
  },
  {
   "cell_type": "code",
   "execution_count": 117,
   "id": "441c323c-bc5c-4d64-a74a-76c0e0daad17",
   "metadata": {},
   "outputs": [],
   "source": [
    "# Define loss function (cross-entropy for multi-class classification)\n",
    "criterion=nn.CrossEntropyLoss()\n",
    "\n",
    "# Define optimizer (Adam with specified learning rate)\n",
    "optimizer=torch.optim.Adam(model.parameters(),lr=learning_rate)"
   ]
  },
  {
   "cell_type": "markdown",
   "id": "788663e5-bb61-4de6-a1b6-641cd389be0b",
   "metadata": {},
   "source": [
    "### training loop"
   ]
  },
  {
   "cell_type": "code",
   "execution_count": 118,
   "id": "e1dd6b68-bd4b-4242-8a18-9dfc579999b8",
   "metadata": {},
   "outputs": [
    {
     "name": "stdout",
     "output_type": "stream",
     "text": [
      "Epoch [100/1000], Loss: 0.8033\n",
      "Epoch [200/1000], Loss: 0.0607\n",
      "Epoch [300/1000], Loss: 0.0142\n",
      "Epoch [400/1000], Loss: 0.0065\n",
      "Epoch [500/1000], Loss: 0.0027\n",
      "Epoch [600/1000], Loss: 0.0022\n",
      "Epoch [700/1000], Loss: 0.0003\n",
      "Epoch [800/1000], Loss: 0.0009\n",
      "Epoch [900/1000], Loss: 0.0017\n",
      "Epoch [1000/1000], Loss: 0.0002\n",
      "final loss: 0.0002\n"
     ]
    }
   ],
   "source": [
    "# Train the model\n",
    "for epoch in range(num_epochs):\n",
    "    for (words, labels) in train_loader:\n",
    "        words = words.to(device)\n",
    "        labels = labels.to(dtype=torch.long).to(device)\n",
    "        \n",
    "        # Forward pass\n",
    "        outputs = model(words)\n",
    "        loss = criterion(outputs, labels)\n",
    "        \n",
    "        # Backward and optimizer step\n",
    "        optimizer.zero_grad()      # Clear gradients before backpropagation\n",
    "        loss.backward()     # Backpropagate to calculate parameter gradients\n",
    "        optimizer.step()    # Update network weights based on gradients and optimizer\n",
    "\n",
    "    # Print loss every 100 epochs\n",
    "    if (epoch+1) % 100 == 0:\n",
    "        print (f'Epoch [{epoch+1}/{num_epochs}], Loss: {loss.item():.4f}')\n",
    "\n",
    "# Print final loss after training\n",
    "print(f'final loss: {loss.item():.4f}')\n"
   ]
  },
  {
   "cell_type": "markdown",
   "id": "936a677c-2caf-4d61-88dc-10bd132d635b",
   "metadata": {},
   "source": [
    "## Save model"
   ]
  },
  {
   "cell_type": "code",
   "execution_count": 119,
   "id": "cf617bdb-e35b-4fe6-ade7-581de7305946",
   "metadata": {},
   "outputs": [
    {
     "name": "stdout",
     "output_type": "stream",
     "text": [
      "training complete. file saved to data.pth\n"
     ]
    }
   ],
   "source": [
    "# Save the trained model's state and other relevant information\n",
    "\n",
    "data = {\n",
    "\"model_state\": model.state_dict(),\n",
    "\"input_size\": input_size,\n",
    "\"hidden_size\": hidden_size,\n",
    "\"output_size\": output_size,\n",
    "\"all_words\": all_words,\n",
    "\"tags\": tags\n",
    "}\n",
    "\n",
    "FILE = \"data.pth\"\n",
    "torch.save(data, FILE)\n",
    "\n",
    "print(f'training complete. file saved to {FILE}')"
   ]
  },
  {
   "cell_type": "markdown",
   "id": "4d1e3501-1385-4667-bce4-11008db1eae7",
   "metadata": {},
   "source": [
    "## use saved model"
   ]
  },
  {
   "cell_type": "code",
   "execution_count": null,
   "id": "94e021a9-c0ca-4c21-9b19-3c070f7e10b3",
   "metadata": {},
   "outputs": [
    {
     "name": "stdout",
     "output_type": "stream",
     "text": [
      "Let's chat! (type 'quit' to exit)\n"
     ]
    },
    {
     "name": "stdin",
     "output_type": "stream",
     "text": [
      "You:  hi\n"
     ]
    },
    {
     "name": "stdout",
     "output_type": "stream",
     "text": [
      "MyBot: Hello, thanks for visiting\n"
     ]
    }
   ],
   "source": [
    "import random\n",
    "import json\n",
    "import torch\n",
    "\n",
    "\n",
    "def Tokenize(sentence):\n",
    "    return nltk.word_tokenize(sentence)\n",
    "def Bag_Of_Word(tokenize_sentence,all_words):\n",
    "    tokenize_sentence=[Stem(w) for w in tokenize_sentence]\n",
    "    bag=np.zeros(len(all_words),dtype=np.float32)\n",
    "\n",
    "    for ind,w in enumerate(all_words):\n",
    "        if w in tokenize_sentence:\n",
    "            bag[ind]=1.0\n",
    "    return bag\n",
    "\n",
    "\n",
    "\n",
    "class NeuralNet(nn.Module):\n",
    "    def __init__(self, input_size, hidden_size, num_classes):\n",
    "        super(NeuralNet, self).__init__()\n",
    "        self.l1 = nn.Linear(input_size, hidden_size) \n",
    "        self.l2 = nn.Linear(hidden_size, hidden_size) \n",
    "        self.l3 = nn.Linear(hidden_size, num_classes)\n",
    "        self.relu = nn.ReLU()\n",
    "    \n",
    "    def forward(self, x):\n",
    "        out = self.l1(x)\n",
    "        out = self.relu(out)\n",
    "        out = self.l2(out)\n",
    "        out = self.relu(out)\n",
    "        out = self.l3(out)\n",
    "        # no activation and no softmax at the end\n",
    "        # use cross-entrophy function\n",
    "        return out\n",
    "\n",
    "device = torch.device('cuda' if torch.cuda.is_available() else 'cpu')\n",
    "\n",
    "with open('G:/chatbot/intents.json','r') as f:\n",
    "    intents=json.load(f)\n",
    "\n",
    "FILE = \"data.pth\"\n",
    "data = torch.load(FILE)\n",
    "\n",
    "input_size = data[\"input_size\"]\n",
    "hidden_size = data[\"hidden_size\"]\n",
    "output_size = data[\"output_size\"]\n",
    "all_words = data['all_words']\n",
    "tags = data['tags']\n",
    "model_state = data[\"model_state\"]\n",
    "\n",
    "model = NeuralNet(input_size, hidden_size, output_size).to(device)\n",
    "model.load_state_dict(model_state)\n",
    "model.eval()\n",
    "\n",
    "bot_name = \"MyBot\"\n",
    "print(\"Let's chat! (type 'quit' to exit)\")\n",
    "while True:\n",
    "    # sentence = \"do you use credit cards?\"\n",
    "    sentence = input(\"You: \")\n",
    "    if sentence == \"quit\":\n",
    "        break\n",
    "\n",
    "    sentence = Tokenize(sentence)\n",
    "    X = Bag_Of_Word(sentence, all_words)\n",
    "    X = X.reshape(1, X.shape[0])\n",
    "    X = torch.from_numpy(X).to(device)\n",
    "\n",
    "    output = model(X)\n",
    "    _, predicted = torch.max(output, dim=1)\n",
    "\n",
    "    tag = tags[predicted.item()]\n",
    "\n",
    "    probs = torch.softmax(output, dim=1)\n",
    "    prob = probs[0][predicted.item()]\n",
    "    if prob.item() > 0.75:\n",
    "        for intent in intents['intents']:\n",
    "            if tag == intent[\"tag\"]:\n",
    "                print(f\"{bot_name}: {random.choice(intent['responses'])}\")\n",
    "    else:\n",
    "        print(f\"{bot_name}: I do not understand...\")\n"
   ]
  }
 ],
 "metadata": {
  "kernelspec": {
   "display_name": "Python 3 (ipykernel)",
   "language": "python",
   "name": "python3"
  },
  "language_info": {
   "codemirror_mode": {
    "name": "ipython",
    "version": 3
   },
   "file_extension": ".py",
   "mimetype": "text/x-python",
   "name": "python",
   "nbconvert_exporter": "python",
   "pygments_lexer": "ipython3",
   "version": "3.11.5"
  }
 },
 "nbformat": 4,
 "nbformat_minor": 5
}
